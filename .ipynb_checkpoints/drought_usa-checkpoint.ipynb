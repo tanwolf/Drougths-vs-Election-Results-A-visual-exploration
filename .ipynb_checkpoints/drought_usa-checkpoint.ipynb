{
 "cells": [
  {
   "cell_type": "markdown",
   "id": "45f6b098-03a9-4671-ac6f-71685c10d5fc",
   "metadata": {},
   "source": [
    "# Drought vs election Data USA"
   ]
  },
  {
   "cell_type": "code",
   "execution_count": 7,
   "id": "195873a9-18bd-4761-a469-35e9fa404c7f",
   "metadata": {},
   "outputs": [],
   "source": [
    "import pandas as pd\n",
    "df_drought_usa = pd.read_csv('Data/United_States_Drought_Monitor__2000-2016.csv')"
   ]
  },
  {
   "cell_type": "markdown",
   "id": "8699f563-e50c-45eb-9095-4dafd0464692",
   "metadata": {},
   "source": [
    "# Formatting draught data"
   ]
  },
  {
   "cell_type": "code",
   "execution_count": 8,
   "id": "ae4512f2-270c-4a4b-ad3d-27ed23564272",
   "metadata": {},
   "outputs": [
    {
     "data": {
      "text/html": [
       "<div>\n",
       "<style scoped>\n",
       "    .dataframe tbody tr th:only-of-type {\n",
       "        vertical-align: middle;\n",
       "    }\n",
       "\n",
       "    .dataframe tbody tr th {\n",
       "        vertical-align: top;\n",
       "    }\n",
       "\n",
       "    .dataframe thead th {\n",
       "        text-align: right;\n",
       "    }\n",
       "</style>\n",
       "<table border=\"1\" class=\"dataframe\">\n",
       "  <thead>\n",
       "    <tr style=\"text-align: right;\">\n",
       "      <th></th>\n",
       "      <th>year</th>\n",
       "      <th>month</th>\n",
       "      <th>day</th>\n",
       "      <th>statefips</th>\n",
       "      <th>countyfips</th>\n",
       "      <th>value</th>\n",
       "    </tr>\n",
       "  </thead>\n",
       "  <tbody>\n",
       "    <tr>\n",
       "      <th>0</th>\n",
       "      <td>2000</td>\n",
       "      <td>1</td>\n",
       "      <td>4</td>\n",
       "      <td>2</td>\n",
       "      <td>2013</td>\n",
       "      <td>9</td>\n",
       "    </tr>\n",
       "    <tr>\n",
       "      <th>1</th>\n",
       "      <td>2000</td>\n",
       "      <td>1</td>\n",
       "      <td>11</td>\n",
       "      <td>2</td>\n",
       "      <td>2013</td>\n",
       "      <td>9</td>\n",
       "    </tr>\n",
       "    <tr>\n",
       "      <th>2</th>\n",
       "      <td>2000</td>\n",
       "      <td>1</td>\n",
       "      <td>18</td>\n",
       "      <td>2</td>\n",
       "      <td>2013</td>\n",
       "      <td>9</td>\n",
       "    </tr>\n",
       "    <tr>\n",
       "      <th>3</th>\n",
       "      <td>2000</td>\n",
       "      <td>1</td>\n",
       "      <td>25</td>\n",
       "      <td>2</td>\n",
       "      <td>2013</td>\n",
       "      <td>9</td>\n",
       "    </tr>\n",
       "    <tr>\n",
       "      <th>4</th>\n",
       "      <td>2000</td>\n",
       "      <td>2</td>\n",
       "      <td>1</td>\n",
       "      <td>2</td>\n",
       "      <td>2013</td>\n",
       "      <td>9</td>\n",
       "    </tr>\n",
       "    <tr>\n",
       "      <th>...</th>\n",
       "      <td>...</td>\n",
       "      <td>...</td>\n",
       "      <td>...</td>\n",
       "      <td>...</td>\n",
       "      <td>...</td>\n",
       "      <td>...</td>\n",
       "    </tr>\n",
       "    <tr>\n",
       "      <th>2786062</th>\n",
       "      <td>2016</td>\n",
       "      <td>11</td>\n",
       "      <td>29</td>\n",
       "      <td>56</td>\n",
       "      <td>56045</td>\n",
       "      <td>2</td>\n",
       "    </tr>\n",
       "    <tr>\n",
       "      <th>2786063</th>\n",
       "      <td>2016</td>\n",
       "      <td>12</td>\n",
       "      <td>6</td>\n",
       "      <td>56</td>\n",
       "      <td>56045</td>\n",
       "      <td>2</td>\n",
       "    </tr>\n",
       "    <tr>\n",
       "      <th>2786064</th>\n",
       "      <td>2016</td>\n",
       "      <td>12</td>\n",
       "      <td>13</td>\n",
       "      <td>56</td>\n",
       "      <td>56045</td>\n",
       "      <td>2</td>\n",
       "    </tr>\n",
       "    <tr>\n",
       "      <th>2786065</th>\n",
       "      <td>2016</td>\n",
       "      <td>12</td>\n",
       "      <td>20</td>\n",
       "      <td>56</td>\n",
       "      <td>56045</td>\n",
       "      <td>2</td>\n",
       "    </tr>\n",
       "    <tr>\n",
       "      <th>2786066</th>\n",
       "      <td>2016</td>\n",
       "      <td>12</td>\n",
       "      <td>27</td>\n",
       "      <td>56</td>\n",
       "      <td>56045</td>\n",
       "      <td>2</td>\n",
       "    </tr>\n",
       "  </tbody>\n",
       "</table>\n",
       "<p>2786067 rows × 6 columns</p>\n",
       "</div>"
      ],
      "text/plain": [
       "         year  month  day  statefips  countyfips  value\n",
       "0        2000      1    4          2        2013      9\n",
       "1        2000      1   11          2        2013      9\n",
       "2        2000      1   18          2        2013      9\n",
       "3        2000      1   25          2        2013      9\n",
       "4        2000      2    1          2        2013      9\n",
       "...       ...    ...  ...        ...         ...    ...\n",
       "2786062  2016     11   29         56       56045      2\n",
       "2786063  2016     12    6         56       56045      2\n",
       "2786064  2016     12   13         56       56045      2\n",
       "2786065  2016     12   20         56       56045      2\n",
       "2786066  2016     12   27         56       56045      2\n",
       "\n",
       "[2786067 rows x 6 columns]"
      ]
     },
     "execution_count": 8,
     "metadata": {},
     "output_type": "execute_result"
    }
   ],
   "source": [
    "df_drought_usa"
   ]
  },
  {
   "cell_type": "code",
   "execution_count": 53,
   "id": "2eea183c-3117-40f1-8936-f058f4273d88",
   "metadata": {},
   "outputs": [
    {
     "ename": "AttributeError",
     "evalue": "'DataFrame' object has no attribute 'countyfips'",
     "output_type": "error",
     "traceback": [
      "\u001b[1;31m---------------------------------------------------------------------------\u001b[0m",
      "\u001b[1;31mAttributeError\u001b[0m                            Traceback (most recent call last)",
      "Input \u001b[1;32mIn [53]\u001b[0m, in \u001b[0;36m<cell line: 2>\u001b[1;34m()\u001b[0m\n\u001b[0;32m      1\u001b[0m \u001b[38;5;66;03m# countyfips: Adding a zero as a first digit when there are only 4 digits instead of 5 (convert countyfips to string)\u001b[39;00m\n\u001b[1;32m----> 2\u001b[0m df_drought_usa\u001b[38;5;241m.\u001b[39mcountyfips \u001b[38;5;241m=\u001b[39m \u001b[43mdf_drought_usa\u001b[49m\u001b[38;5;241;43m.\u001b[39;49m\u001b[43mcountyfips\u001b[49m\u001b[38;5;241m.\u001b[39mastype(\u001b[38;5;28mstr\u001b[39m)\u001b[38;5;241m.\u001b[39mstr\u001b[38;5;241m.\u001b[39mrjust(\u001b[38;5;241m5\u001b[39m, fillchar\u001b[38;5;241m=\u001b[39m\u001b[38;5;124m\"\u001b[39m\u001b[38;5;124m0\u001b[39m\u001b[38;5;124m\"\u001b[39m)\n\u001b[0;32m      3\u001b[0m df_drought_usa\u001b[38;5;241m.\u001b[39mcountyfips\u001b[38;5;241m.\u001b[39mhead()\n",
      "File \u001b[1;32m~\\anaconda3\\lib\\site-packages\\pandas\\core\\generic.py:5575\u001b[0m, in \u001b[0;36mNDFrame.__getattr__\u001b[1;34m(self, name)\u001b[0m\n\u001b[0;32m   5568\u001b[0m \u001b[38;5;28;01mif\u001b[39;00m (\n\u001b[0;32m   5569\u001b[0m     name \u001b[38;5;129;01mnot\u001b[39;00m \u001b[38;5;129;01min\u001b[39;00m \u001b[38;5;28mself\u001b[39m\u001b[38;5;241m.\u001b[39m_internal_names_set\n\u001b[0;32m   5570\u001b[0m     \u001b[38;5;129;01mand\u001b[39;00m name \u001b[38;5;129;01mnot\u001b[39;00m \u001b[38;5;129;01min\u001b[39;00m \u001b[38;5;28mself\u001b[39m\u001b[38;5;241m.\u001b[39m_metadata\n\u001b[0;32m   5571\u001b[0m     \u001b[38;5;129;01mand\u001b[39;00m name \u001b[38;5;129;01mnot\u001b[39;00m \u001b[38;5;129;01min\u001b[39;00m \u001b[38;5;28mself\u001b[39m\u001b[38;5;241m.\u001b[39m_accessors\n\u001b[0;32m   5572\u001b[0m     \u001b[38;5;129;01mand\u001b[39;00m \u001b[38;5;28mself\u001b[39m\u001b[38;5;241m.\u001b[39m_info_axis\u001b[38;5;241m.\u001b[39m_can_hold_identifiers_and_holds_name(name)\n\u001b[0;32m   5573\u001b[0m ):\n\u001b[0;32m   5574\u001b[0m     \u001b[38;5;28;01mreturn\u001b[39;00m \u001b[38;5;28mself\u001b[39m[name]\n\u001b[1;32m-> 5575\u001b[0m \u001b[38;5;28;01mreturn\u001b[39;00m \u001b[38;5;28;43mobject\u001b[39;49m\u001b[38;5;241;43m.\u001b[39;49m\u001b[38;5;21;43m__getattribute__\u001b[39;49m\u001b[43m(\u001b[49m\u001b[38;5;28;43mself\u001b[39;49m\u001b[43m,\u001b[49m\u001b[43m \u001b[49m\u001b[43mname\u001b[49m\u001b[43m)\u001b[49m\n",
      "\u001b[1;31mAttributeError\u001b[0m: 'DataFrame' object has no attribute 'countyfips'"
     ]
    }
   ],
   "source": [
    "# countyfips: Adding a zero as a first digit when there are only 4 digits instead of 5 (convert countyfips to string)\n",
    "df_drought_usa.countyfips = df_drought_usa.countyfips.astype(str).str.rjust(5, fillchar=\"0\")\n",
    "df_drought_usa.countyfips.head()"
   ]
  },
  {
   "cell_type": "code",
   "execution_count": 45,
   "id": "1a687956-abc4-40dd-88ee-504cab26ff21",
   "metadata": {},
   "outputs": [
    {
     "name": "stdout",
     "output_type": "stream",
     "text": [
      "<class 'pandas.core.frame.DataFrame'>\n",
      "RangeIndex: 2786067 entries, 0 to 2786066\n",
      "Data columns (total 6 columns):\n",
      " #   Column      Dtype \n",
      "---  ------      ----- \n",
      " 0   year        int64 \n",
      " 1   month       int64 \n",
      " 2   day         int64 \n",
      " 3   statefips   int64 \n",
      " 4   countyfips  object\n",
      " 5   value       int64 \n",
      "dtypes: int64(5), object(1)\n",
      "memory usage: 127.5+ MB\n"
     ]
    }
   ],
   "source": [
    "df_drought_usa.info()"
   ]
  },
  {
   "cell_type": "code",
   "execution_count": 46,
   "id": "2dbe3d31-a84b-4bb2-80fb-a0c4945e7025",
   "metadata": {},
   "outputs": [],
   "source": [
    "# Changing countyfips to integer\n",
    "df_drought_usa.countyfips = df_drought_usa.countyfips.astype(int)"
   ]
  },
  {
   "cell_type": "code",
   "execution_count": 47,
   "id": "c8cbe248-1416-4292-a118-01ac0ca3cf8e",
   "metadata": {},
   "outputs": [
    {
     "name": "stdout",
     "output_type": "stream",
     "text": [
      "<class 'pandas.core.frame.DataFrame'>\n",
      "RangeIndex: 2786067 entries, 0 to 2786066\n",
      "Data columns (total 6 columns):\n",
      " #   Column      Dtype\n",
      "---  ------      -----\n",
      " 0   year        int64\n",
      " 1   month       int64\n",
      " 2   day         int64\n",
      " 3   statefips   int64\n",
      " 4   countyfips  int32\n",
      " 5   value       int64\n",
      "dtypes: int32(1), int64(5)\n",
      "memory usage: 116.9 MB\n"
     ]
    }
   ],
   "source": [
    "df_drought_usa.info()"
   ]
  },
  {
   "cell_type": "code",
   "execution_count": 49,
   "id": "4dab6df3-3840-47ab-ac1e-4a53a37483c3",
   "metadata": {},
   "outputs": [],
   "source": [
    "df_drought_usa.rename(columns = {'statefips' : 'State FIPS', 'countyfips': 'County FIPS 5' }, inplace= True)"
   ]
  },
  {
   "cell_type": "code",
   "execution_count": 50,
   "id": "c5dd5a43-24c0-4ac3-9845-5e0eab595fa7",
   "metadata": {},
   "outputs": [
    {
     "name": "stdout",
     "output_type": "stream",
     "text": [
      "<class 'pandas.core.frame.DataFrame'>\n",
      "RangeIndex: 2786067 entries, 0 to 2786066\n",
      "Data columns (total 6 columns):\n",
      " #   Column         Dtype\n",
      "---  ------         -----\n",
      " 0   year           int64\n",
      " 1   month          int64\n",
      " 2   day            int64\n",
      " 3   State FIPS     int64\n",
      " 4   County FIPS 5  int32\n",
      " 5   value          int64\n",
      "dtypes: int32(1), int64(5)\n",
      "memory usage: 116.9 MB\n"
     ]
    }
   ],
   "source": [
    "df_drought_usa.info()"
   ]
  },
  {
   "cell_type": "code",
   "execution_count": 51,
   "id": "5240139f-fb09-48d4-aef7-f3d7b4b4a933",
   "metadata": {},
   "outputs": [],
   "source": [
    "df_drought_usa.to_csv('shark2_drought_data_usa.csv', index =False)"
   ]
  },
  {
   "cell_type": "markdown",
   "id": "6dc40cd6-936a-4aa3-98a9-8c23f5d52645",
   "metadata": {},
   "source": [
    "# Formatting data of the presidential election"
   ]
  },
  {
   "cell_type": "code",
   "execution_count": 14,
   "id": "0a21cf1c-060e-4cf4-b80b-1544c4d816ce",
   "metadata": {},
   "outputs": [],
   "source": [
    "df_county_presidential = pd.read_csv(\"Data/countypres_2000-2020_county.csv\")"
   ]
  },
  {
   "cell_type": "code",
   "execution_count": 15,
   "id": "6774c280-a8f0-43fb-8a1d-cbd51bc2d46d",
   "metadata": {},
   "outputs": [
    {
     "name": "stdout",
     "output_type": "stream",
     "text": [
      "<class 'pandas.core.frame.DataFrame'>\n",
      "RangeIndex: 72617 entries, 0 to 72616\n",
      "Data columns (total 12 columns):\n",
      " #   Column          Non-Null Count  Dtype  \n",
      "---  ------          --------------  -----  \n",
      " 0   year            72617 non-null  int64  \n",
      " 1   state           72617 non-null  object \n",
      " 2   state_po        72617 non-null  object \n",
      " 3   county_name     72617 non-null  object \n",
      " 4   county_fips     72560 non-null  float64\n",
      " 5   office          72617 non-null  object \n",
      " 6   candidate       72617 non-null  object \n",
      " 7   party           72617 non-null  object \n",
      " 8   candidatevotes  72617 non-null  int64  \n",
      " 9   totalvotes      72617 non-null  int64  \n",
      " 10  version         72617 non-null  int64  \n",
      " 11  mode            72617 non-null  object \n",
      "dtypes: float64(1), int64(4), object(7)\n",
      "memory usage: 6.6+ MB\n"
     ]
    }
   ],
   "source": [
    "df_county_presidential.info()"
   ]
  },
  {
   "cell_type": "code",
   "execution_count": 52,
   "id": "76f0c77a-6530-440f-8169-d1fa5aabf177",
   "metadata": {},
   "outputs": [
    {
     "data": {
      "text/plain": [
       "0        01001\n",
       "1        01001\n",
       "2        01001\n",
       "3        01001\n",
       "4        01003\n",
       "         ...  \n",
       "72612    56043\n",
       "72613    56045\n",
       "72614    56045\n",
       "72615    56045\n",
       "72616    56045\n",
       "Name: county_fips, Length: 72617, dtype: object"
      ]
     },
     "execution_count": 52,
     "metadata": {},
     "output_type": "execute_result"
    }
   ],
   "source": [
    "# county_fips: Adding a zero as a first digit when there are only 4 digits instead of 5 (convert county_fips to string)\n",
    "df_county_presidential.county_fips.astype(str).str.replace('.0', '', regex=False).str.rjust(5, fillchar=\"0\")"
   ]
  },
  {
   "cell_type": "code",
   "execution_count": 56,
   "id": "8e88ec2d-3416-413c-a9aa-12196d8f7dbc",
   "metadata": {},
   "outputs": [],
   "source": [
    "# conversion to 'int' does not work because of NA values > Convert NA to 0\n",
    "df_county_presidential['county_fips'] = df_county_presidential['county_fips'].fillna(0)"
   ]
  },
  {
   "cell_type": "code",
   "execution_count": 57,
   "id": "d986e38a-cced-4613-9c1d-7a82e7b15e81",
   "metadata": {},
   "outputs": [],
   "source": [
    "# Convert county_fips to integer\n",
    "df_county_presidential.county_fips = df_county_presidential.county_fips.astype(int)"
   ]
  },
  {
   "cell_type": "code",
   "execution_count": 58,
   "id": "3cd13a9d-9070-407b-8b9e-8a7a890725bb",
   "metadata": {},
   "outputs": [],
   "source": [
    "# rename county_fips to County FIPS 5\n",
    "df_county_presidential.rename(columns = {'county_fips': 'County FIPS 5' }, inplace= True)"
   ]
  },
  {
   "cell_type": "code",
   "execution_count": 59,
   "id": "5ee94982-c427-43d0-ba5c-ea61a50f5b63",
   "metadata": {},
   "outputs": [],
   "source": [
    "df_county_presidential.to_csv('Data/shark2_county_presidential_usa.csv', index =False)"
   ]
  },
  {
   "cell_type": "markdown",
   "id": "f5bd0f82-362c-42f2-8e21-fb032b01bd72",
   "metadata": {},
   "source": [
    "# Formatting Fips Codes"
   ]
  },
  {
   "cell_type": "code",
   "execution_count": 34,
   "id": "b96533f0-b5c3-4a65-8d1d-4590e47c5d48",
   "metadata": {},
   "outputs": [],
   "source": [
    "# example data of how to format Fips Codes in tableau\n",
    "df_fips_5 = pd.read_csv(\"Data/NY FIPS 5 (FIPS Codes)_Migrated Data.csv\", sep =';')"
   ]
  },
  {
   "cell_type": "code",
   "execution_count": 35,
   "id": "1321becb-a505-4180-bc2d-6b04844a8dbe",
   "metadata": {},
   "outputs": [
    {
     "name": "stdout",
     "output_type": "stream",
     "text": [
      "<class 'pandas.core.frame.DataFrame'>\n",
      "RangeIndex: 62 entries, 0 to 61\n",
      "Data columns (total 4 columns):\n",
      " #   Column             Non-Null Count  Dtype \n",
      "---  ------             --------------  ----- \n",
      " 0   County             62 non-null     object\n",
      " 1   County FIPS 5      62 non-null     int64 \n",
      " 2   State              62 non-null     object\n",
      " 3   Number of Records  62 non-null     int64 \n",
      "dtypes: int64(2), object(2)\n",
      "memory usage: 2.1+ KB\n"
     ]
    }
   ],
   "source": [
    "df_fips_5.info()"
   ]
  },
  {
   "cell_type": "code",
   "execution_count": 37,
   "id": "398e1904-ba03-4bd7-8c35-961b05019eeb",
   "metadata": {},
   "outputs": [
    {
     "data": {
      "text/html": [
       "<div>\n",
       "<style scoped>\n",
       "    .dataframe tbody tr th:only-of-type {\n",
       "        vertical-align: middle;\n",
       "    }\n",
       "\n",
       "    .dataframe tbody tr th {\n",
       "        vertical-align: top;\n",
       "    }\n",
       "\n",
       "    .dataframe thead th {\n",
       "        text-align: right;\n",
       "    }\n",
       "</style>\n",
       "<table border=\"1\" class=\"dataframe\">\n",
       "  <thead>\n",
       "    <tr style=\"text-align: right;\">\n",
       "      <th></th>\n",
       "      <th>County</th>\n",
       "      <th>County FIPS 5</th>\n",
       "      <th>State</th>\n",
       "      <th>Number of Records</th>\n",
       "    </tr>\n",
       "  </thead>\n",
       "  <tbody>\n",
       "    <tr>\n",
       "      <th>0</th>\n",
       "      <td>Albany</td>\n",
       "      <td>36001</td>\n",
       "      <td>New York</td>\n",
       "      <td>1</td>\n",
       "    </tr>\n",
       "    <tr>\n",
       "      <th>1</th>\n",
       "      <td>Allegany</td>\n",
       "      <td>36003</td>\n",
       "      <td>New York</td>\n",
       "      <td>1</td>\n",
       "    </tr>\n",
       "    <tr>\n",
       "      <th>2</th>\n",
       "      <td>Bronx</td>\n",
       "      <td>36005</td>\n",
       "      <td>New York</td>\n",
       "      <td>1</td>\n",
       "    </tr>\n",
       "  </tbody>\n",
       "</table>\n",
       "</div>"
      ],
      "text/plain": [
       "     County  County FIPS 5     State  Number of Records\n",
       "0    Albany          36001  New York                  1\n",
       "1  Allegany          36003  New York                  1\n",
       "2     Bronx          36005  New York                  1"
      ]
     },
     "execution_count": 37,
     "metadata": {},
     "output_type": "execute_result"
    }
   ],
   "source": [
    "df_fips_5.head(3)"
   ]
  },
  {
   "cell_type": "code",
   "execution_count": 38,
   "id": "f237a2ea-0527-4e5c-8665-cdf1a0c027fa",
   "metadata": {},
   "outputs": [
    {
     "name": "stdout",
     "output_type": "stream",
     "text": [
      "<class 'pandas.core.frame.DataFrame'>\n",
      "RangeIndex: 2786067 entries, 0 to 2786066\n",
      "Data columns (total 6 columns):\n",
      " #   Column      Dtype\n",
      "---  ------      -----\n",
      " 0   year        int64\n",
      " 1   month       int64\n",
      " 2   day         int64\n",
      " 3   statefips   int64\n",
      " 4   countyfips  int32\n",
      " 5   value       int64\n",
      "dtypes: int32(1), int64(5)\n",
      "memory usage: 116.9 MB\n"
     ]
    }
   ],
   "source": [
    "df_drought_usa.info()"
   ]
  },
  {
   "cell_type": "code",
   "execution_count": null,
   "id": "3fecd39f-c7cc-460e-a5a3-fde54c3b2327",
   "metadata": {},
   "outputs": [],
   "source": []
  }
 ],
 "metadata": {
  "kernelspec": {
   "display_name": "Python 3 (ipykernel)",
   "language": "python",
   "name": "python3"
  },
  "language_info": {
   "codemirror_mode": {
    "name": "ipython",
    "version": 3
   },
   "file_extension": ".py",
   "mimetype": "text/x-python",
   "name": "python",
   "nbconvert_exporter": "python",
   "pygments_lexer": "ipython3",
   "version": "3.9.12"
  }
 },
 "nbformat": 4,
 "nbformat_minor": 5
}
