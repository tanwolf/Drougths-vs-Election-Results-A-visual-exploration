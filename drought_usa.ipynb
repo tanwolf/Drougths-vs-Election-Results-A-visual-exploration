{
 "cells": [
  {
   "cell_type": "markdown",
   "id": "45f6b098-03a9-4671-ac6f-71685c10d5fc",
   "metadata": {},
   "source": [
    "# Drought vs election Data USA"
   ]
  },
  {
   "cell_type": "code",
   "execution_count": 2,
   "id": "195873a9-18bd-4761-a469-35e9fa404c7f",
   "metadata": {},
   "outputs": [],
   "source": [
    "import pandas as pd\n",
    "df_drought_usa = pd.read_csv(\"United_States_Drought_Monitor__2000-2016.csv\")"
   ]
  },
  {
   "cell_type": "code",
   "execution_count": 3,
   "id": "ae4512f2-270c-4a4b-ad3d-27ed23564272",
   "metadata": {},
   "outputs": [
    {
     "data": {
      "text/html": [
       "<div>\n",
       "<style scoped>\n",
       "    .dataframe tbody tr th:only-of-type {\n",
       "        vertical-align: middle;\n",
       "    }\n",
       "\n",
       "    .dataframe tbody tr th {\n",
       "        vertical-align: top;\n",
       "    }\n",
       "\n",
       "    .dataframe thead th {\n",
       "        text-align: right;\n",
       "    }\n",
       "</style>\n",
       "<table border=\"1\" class=\"dataframe\">\n",
       "  <thead>\n",
       "    <tr style=\"text-align: right;\">\n",
       "      <th></th>\n",
       "      <th>year</th>\n",
       "      <th>month</th>\n",
       "      <th>day</th>\n",
       "      <th>statefips</th>\n",
       "      <th>countyfips</th>\n",
       "      <th>value</th>\n",
       "    </tr>\n",
       "  </thead>\n",
       "  <tbody>\n",
       "    <tr>\n",
       "      <th>0</th>\n",
       "      <td>2000</td>\n",
       "      <td>1</td>\n",
       "      <td>4</td>\n",
       "      <td>2</td>\n",
       "      <td>2013</td>\n",
       "      <td>9</td>\n",
       "    </tr>\n",
       "    <tr>\n",
       "      <th>1</th>\n",
       "      <td>2000</td>\n",
       "      <td>1</td>\n",
       "      <td>11</td>\n",
       "      <td>2</td>\n",
       "      <td>2013</td>\n",
       "      <td>9</td>\n",
       "    </tr>\n",
       "    <tr>\n",
       "      <th>2</th>\n",
       "      <td>2000</td>\n",
       "      <td>1</td>\n",
       "      <td>18</td>\n",
       "      <td>2</td>\n",
       "      <td>2013</td>\n",
       "      <td>9</td>\n",
       "    </tr>\n",
       "    <tr>\n",
       "      <th>3</th>\n",
       "      <td>2000</td>\n",
       "      <td>1</td>\n",
       "      <td>25</td>\n",
       "      <td>2</td>\n",
       "      <td>2013</td>\n",
       "      <td>9</td>\n",
       "    </tr>\n",
       "    <tr>\n",
       "      <th>4</th>\n",
       "      <td>2000</td>\n",
       "      <td>2</td>\n",
       "      <td>1</td>\n",
       "      <td>2</td>\n",
       "      <td>2013</td>\n",
       "      <td>9</td>\n",
       "    </tr>\n",
       "    <tr>\n",
       "      <th>...</th>\n",
       "      <td>...</td>\n",
       "      <td>...</td>\n",
       "      <td>...</td>\n",
       "      <td>...</td>\n",
       "      <td>...</td>\n",
       "      <td>...</td>\n",
       "    </tr>\n",
       "    <tr>\n",
       "      <th>2786062</th>\n",
       "      <td>2016</td>\n",
       "      <td>11</td>\n",
       "      <td>29</td>\n",
       "      <td>56</td>\n",
       "      <td>56045</td>\n",
       "      <td>2</td>\n",
       "    </tr>\n",
       "    <tr>\n",
       "      <th>2786063</th>\n",
       "      <td>2016</td>\n",
       "      <td>12</td>\n",
       "      <td>6</td>\n",
       "      <td>56</td>\n",
       "      <td>56045</td>\n",
       "      <td>2</td>\n",
       "    </tr>\n",
       "    <tr>\n",
       "      <th>2786064</th>\n",
       "      <td>2016</td>\n",
       "      <td>12</td>\n",
       "      <td>13</td>\n",
       "      <td>56</td>\n",
       "      <td>56045</td>\n",
       "      <td>2</td>\n",
       "    </tr>\n",
       "    <tr>\n",
       "      <th>2786065</th>\n",
       "      <td>2016</td>\n",
       "      <td>12</td>\n",
       "      <td>20</td>\n",
       "      <td>56</td>\n",
       "      <td>56045</td>\n",
       "      <td>2</td>\n",
       "    </tr>\n",
       "    <tr>\n",
       "      <th>2786066</th>\n",
       "      <td>2016</td>\n",
       "      <td>12</td>\n",
       "      <td>27</td>\n",
       "      <td>56</td>\n",
       "      <td>56045</td>\n",
       "      <td>2</td>\n",
       "    </tr>\n",
       "  </tbody>\n",
       "</table>\n",
       "<p>2786067 rows × 6 columns</p>\n",
       "</div>"
      ],
      "text/plain": [
       "         year  month  day  statefips  countyfips  value\n",
       "0        2000      1    4          2        2013      9\n",
       "1        2000      1   11          2        2013      9\n",
       "2        2000      1   18          2        2013      9\n",
       "3        2000      1   25          2        2013      9\n",
       "4        2000      2    1          2        2013      9\n",
       "...       ...    ...  ...        ...         ...    ...\n",
       "2786062  2016     11   29         56       56045      2\n",
       "2786063  2016     12    6         56       56045      2\n",
       "2786064  2016     12   13         56       56045      2\n",
       "2786065  2016     12   20         56       56045      2\n",
       "2786066  2016     12   27         56       56045      2\n",
       "\n",
       "[2786067 rows x 6 columns]"
      ]
     },
     "execution_count": 3,
     "metadata": {},
     "output_type": "execute_result"
    }
   ],
   "source": [
    "df_drought_usa"
   ]
  },
  {
   "cell_type": "code",
   "execution_count": 4,
   "id": "2eea183c-3117-40f1-8936-f058f4273d88",
   "metadata": {},
   "outputs": [
    {
     "data": {
      "text/plain": [
       "0          20130\n",
       "1          20130\n",
       "2          20130\n",
       "3          20130\n",
       "4          20130\n",
       "           ...  \n",
       "2786062    56045\n",
       "2786063    56045\n",
       "2786064    56045\n",
       "2786065    56045\n",
       "2786066    56045\n",
       "Name: countyfips, Length: 2786067, dtype: object"
      ]
     },
     "execution_count": 4,
     "metadata": {},
     "output_type": "execute_result"
    }
   ],
   "source": [
    "df_drought_usa.countyfips.astype(str).str.ljust(5, fillchar=\"0\")"
   ]
  },
  {
   "cell_type": "code",
   "execution_count": 5,
   "id": "2dbe3d31-a84b-4bb2-80fb-a0c4945e7025",
   "metadata": {},
   "outputs": [],
   "source": [
    "df_drought_usa.countyfips = df_drought_usa.countyfips.astype(str).str.rjust(5, fillchar=\"0\")\n",
    "df_drought_usa.countyfips = df_drought_usa.countyfips.astype(int)"
   ]
  },
  {
   "cell_type": "code",
   "execution_count": 6,
   "id": "c8cbe248-1416-4292-a118-01ac0ca3cf8e",
   "metadata": {},
   "outputs": [
    {
     "name": "stdout",
     "output_type": "stream",
     "text": [
      "<class 'pandas.core.frame.DataFrame'>\n",
      "RangeIndex: 2786067 entries, 0 to 2786066\n",
      "Data columns (total 6 columns):\n",
      " #   Column      Dtype\n",
      "---  ------      -----\n",
      " 0   year        int64\n",
      " 1   month       int64\n",
      " 2   day         int64\n",
      " 3   statefips   int64\n",
      " 4   countyfips  int32\n",
      " 5   value       int64\n",
      "dtypes: int32(1), int64(5)\n",
      "memory usage: 116.9 MB\n"
     ]
    }
   ],
   "source": [
    "df_drought_usa.info()"
   ]
  },
  {
   "cell_type": "code",
   "execution_count": 7,
   "id": "5240139f-fb09-48d4-aef7-f3d7b4b4a933",
   "metadata": {},
   "outputs": [],
   "source": [
    "df_drought_usa.to_csv('shark_drought_data_usa.csv', index =False)"
   ]
  },
  {
   "cell_type": "code",
   "execution_count": 8,
   "id": "0a21cf1c-060e-4cf4-b80b-1544c4d816ce",
   "metadata": {},
   "outputs": [],
   "source": [
    "df_county_presidential = pd.read_csv(\"countypres_2000-2020_county.csv\")"
   ]
  },
  {
   "cell_type": "code",
   "execution_count": 9,
   "id": "6774c280-a8f0-43fb-8a1d-cbd51bc2d46d",
   "metadata": {},
   "outputs": [
    {
     "name": "stdout",
     "output_type": "stream",
     "text": [
      "<class 'pandas.core.frame.DataFrame'>\n",
      "RangeIndex: 72617 entries, 0 to 72616\n",
      "Data columns (total 12 columns):\n",
      " #   Column          Non-Null Count  Dtype  \n",
      "---  ------          --------------  -----  \n",
      " 0   year            72617 non-null  int64  \n",
      " 1   state           72617 non-null  object \n",
      " 2   state_po        72617 non-null  object \n",
      " 3   county_name     72617 non-null  object \n",
      " 4   county_fips     72560 non-null  float64\n",
      " 5   office          72617 non-null  object \n",
      " 6   candidate       72617 non-null  object \n",
      " 7   party           72617 non-null  object \n",
      " 8   candidatevotes  72617 non-null  int64  \n",
      " 9   totalvotes      72617 non-null  int64  \n",
      " 10  version         72617 non-null  int64  \n",
      " 11  mode            72617 non-null  object \n",
      "dtypes: float64(1), int64(4), object(7)\n",
      "memory usage: 6.6+ MB\n"
     ]
    }
   ],
   "source": [
    "df_county_presidential.info()"
   ]
  },
  {
   "cell_type": "code",
   "execution_count": 10,
   "id": "76f0c77a-6530-440f-8169-d1fa5aabf177",
   "metadata": {},
   "outputs": [
    {
     "data": {
      "text/plain": [
       "0        01001\n",
       "1        01001\n",
       "2        01001\n",
       "3        01001\n",
       "4        01003\n",
       "         ...  \n",
       "72612    56043\n",
       "72613    56045\n",
       "72614    56045\n",
       "72615    56045\n",
       "72616    56045\n",
       "Name: county_fips, Length: 72617, dtype: object"
      ]
     },
     "execution_count": 10,
     "metadata": {},
     "output_type": "execute_result"
    }
   ],
   "source": [
    "df_county_presidential.county_fips.astype(str).str.replace('.0', '', regex=False).str.rjust(5, fillchar=\"0\")"
   ]
  },
  {
   "cell_type": "code",
   "execution_count": 11,
   "id": "d986e38a-cced-4613-9c1d-7a82e7b15e81",
   "metadata": {},
   "outputs": [],
   "source": [
    "# conversion to 'int' does not work because of NA. Can remain a string for now df_county_presidential.county_fips = df_county_presidential.county_fips.astype(int)"
   ]
  },
  {
   "cell_type": "code",
   "execution_count": 12,
   "id": "5ee94982-c427-43d0-ba5c-ea61a50f5b63",
   "metadata": {},
   "outputs": [],
   "source": [
    "df_county_presidential.to_csv('shark_county_presidential_usa.csv', index =False)"
   ]
  },
  {
   "cell_type": "code",
   "execution_count": 13,
   "id": "b96533f0-b5c3-4a65-8d1d-4590e47c5d48",
   "metadata": {},
   "outputs": [],
   "source": [
    "df_fips_5 = pd.read_csv(\"NY FIPS 5 (FIPS Codes)_Migrated Data.csv\")"
   ]
  },
  {
   "cell_type": "code",
   "execution_count": 14,
   "id": "1321becb-a505-4180-bc2d-6b04844a8dbe",
   "metadata": {},
   "outputs": [
    {
     "name": "stdout",
     "output_type": "stream",
     "text": [
      "<class 'pandas.core.frame.DataFrame'>\n",
      "RangeIndex: 62 entries, 0 to 61\n",
      "Data columns (total 1 columns):\n",
      " #   Column                                        Non-Null Count  Dtype \n",
      "---  ------                                        --------------  ----- \n",
      " 0   County;County FIPS 5;State;Number of Records  62 non-null     object\n",
      "dtypes: object(1)\n",
      "memory usage: 624.0+ bytes\n"
     ]
    }
   ],
   "source": [
    "df_fips_5.info()"
   ]
  },
  {
   "cell_type": "code",
   "execution_count": null,
   "id": "398e1904-ba03-4bd7-8c35-961b05019eeb",
   "metadata": {},
   "outputs": [],
   "source": []
  }
 ],
 "metadata": {
  "kernelspec": {
   "display_name": "Python 3 (ipykernel)",
   "language": "python",
   "name": "python3"
  },
  "language_info": {
   "codemirror_mode": {
    "name": "ipython",
    "version": 3
   },
   "file_extension": ".py",
   "mimetype": "text/x-python",
   "name": "python",
   "nbconvert_exporter": "python",
   "pygments_lexer": "ipython3",
   "version": "3.9.12"
  }
 },
 "nbformat": 4,
 "nbformat_minor": 5
}
