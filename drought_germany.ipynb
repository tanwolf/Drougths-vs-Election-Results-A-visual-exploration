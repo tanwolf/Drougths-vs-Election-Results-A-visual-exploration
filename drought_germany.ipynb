{
 "cells": [
  {
   "cell_type": "markdown",
   "id": "a22c98cb-90f9-450e-9e48-86667906602a",
   "metadata": {},
   "source": [
    "# Drought Germany"
   ]
  },
  {
   "cell_type": "code",
   "execution_count": 5,
   "id": "f2be254f-87be-4282-a373-ae948bbb30ba",
   "metadata": {},
   "outputs": [],
   "source": [
    "import pandas as pd\n",
    "\n",
    "try:\n",
    "   drought_germany = pd.read_csv('Data/droughtmagnitude_2000-2020.csv', encoding = \"utf-8\", sep=';')\n",
    "except:\n",
    "   drought_germany = pd.read_csv('Data/droughtmagnitude_2000-2020.csv', encoding= \"ISO-8859-1\", sep=';')"
   ]
  },
  {
   "cell_type": "code",
   "execution_count": 6,
   "id": "f9dd2a68-fba2-4048-82d9-25ea1f990e35",
   "metadata": {},
   "outputs": [
    {
     "data": {
      "text/html": [
       "<div>\n",
       "<style scoped>\n",
       "    .dataframe tbody tr th:only-of-type {\n",
       "        vertical-align: middle;\n",
       "    }\n",
       "\n",
       "    .dataframe tbody tr th {\n",
       "        vertical-align: top;\n",
       "    }\n",
       "\n",
       "    .dataframe thead th {\n",
       "        text-align: right;\n",
       "    }\n",
       "</style>\n",
       "<table border=\"1\" class=\"dataframe\">\n",
       "  <thead>\n",
       "    <tr style=\"text-align: right;\">\n",
       "      <th></th>\n",
       "      <th>electoral_district_nr</th>\n",
       "      <th>electoral_district_name</th>\n",
       "      <th>federal_state_nr</th>\n",
       "      <th>federal_state_name</th>\n",
       "      <th>drought_index_per_district</th>\n",
       "      <th>Year</th>\n",
       "    </tr>\n",
       "  </thead>\n",
       "  <tbody>\n",
       "    <tr>\n",
       "      <th>0</th>\n",
       "      <td>106</td>\n",
       "      <td>Düsseldorf I</td>\n",
       "      <td>5.0</td>\n",
       "      <td>Nordrhein-Westfalen</td>\n",
       "      <td>0</td>\n",
       "      <td>2000</td>\n",
       "    </tr>\n",
       "    <tr>\n",
       "      <th>1</th>\n",
       "      <td>205</td>\n",
       "      <td>Mainz</td>\n",
       "      <td>7.0</td>\n",
       "      <td>Rheinland-Pfalz</td>\n",
       "      <td>0</td>\n",
       "      <td>2000</td>\n",
       "    </tr>\n",
       "    <tr>\n",
       "      <th>2</th>\n",
       "      <td>213</td>\n",
       "      <td>Erding - Ebersberg</td>\n",
       "      <td>9.0</td>\n",
       "      <td>Bayern</td>\n",
       "      <td>1</td>\n",
       "      <td>2000</td>\n",
       "    </tr>\n",
       "    <tr>\n",
       "      <th>3</th>\n",
       "      <td>139</td>\n",
       "      <td>Ennepe-Ruhr-Kreis II</td>\n",
       "      <td>5.0</td>\n",
       "      <td>Nordrhein-Westfalen</td>\n",
       "      <td>1</td>\n",
       "      <td>2000</td>\n",
       "    </tr>\n",
       "    <tr>\n",
       "      <th>4</th>\n",
       "      <td>291</td>\n",
       "      <td>Ulm</td>\n",
       "      <td>8.0</td>\n",
       "      <td>Baden-Württemberg</td>\n",
       "      <td>2</td>\n",
       "      <td>2000</td>\n",
       "    </tr>\n",
       "  </tbody>\n",
       "</table>\n",
       "</div>"
      ],
      "text/plain": [
       "   electoral_district_nr electoral_district_name  federal_state_nr  \\\n",
       "0                    106            Düsseldorf I               5.0   \n",
       "1                    205                   Mainz               7.0   \n",
       "2                    213      Erding - Ebersberg               9.0   \n",
       "3                    139    Ennepe-Ruhr-Kreis II               5.0   \n",
       "4                    291                     Ulm               8.0   \n",
       "\n",
       "    federal_state_name  drought_index_per_district  Year  \n",
       "0  Nordrhein-Westfalen                           0  2000  \n",
       "1      Rheinland-Pfalz                           0  2000  \n",
       "2               Bayern                           1  2000  \n",
       "3  Nordrhein-Westfalen                           1  2000  \n",
       "4    Baden-Württemberg                           2  2000  "
      ]
     },
     "execution_count": 6,
     "metadata": {},
     "output_type": "execute_result"
    }
   ],
   "source": [
    "drought_germany.head()"
   ]
  },
  {
   "cell_type": "code",
   "execution_count": 7,
   "id": "ce939653-19a2-427a-a1bf-ca8a8d8de7d3",
   "metadata": {},
   "outputs": [
    {
     "name": "stdout",
     "output_type": "stream",
     "text": [
      "<class 'pandas.core.frame.DataFrame'>\n",
      "RangeIndex: 5979 entries, 0 to 5978\n",
      "Data columns (total 6 columns):\n",
      " #   Column                      Non-Null Count  Dtype  \n",
      "---  ------                      --------------  -----  \n",
      " 0   electoral_district_nr       5979 non-null   int64  \n",
      " 1   electoral_district_name     5960 non-null   object \n",
      " 2   federal_state_nr            5960 non-null   float64\n",
      " 3   federal_state_name          5960 non-null   object \n",
      " 4   drought_index_per_district  5979 non-null   int64  \n",
      " 5   Year                        5979 non-null   int64  \n",
      "dtypes: float64(1), int64(3), object(2)\n",
      "memory usage: 280.4+ KB\n"
     ]
    }
   ],
   "source": [
    "drought_germany.info()"
   ]
  },
  {
   "cell_type": "code",
   "execution_count": 8,
   "id": "561b9b24-8ade-42e6-893e-0f24a1146942",
   "metadata": {},
   "outputs": [
    {
     "data": {
      "text/plain": [
       "0       False\n",
       "1       False\n",
       "2       False\n",
       "3       False\n",
       "4       False\n",
       "        ...  \n",
       "5974    False\n",
       "5975    False\n",
       "5976    False\n",
       "5977    False\n",
       "5978    False\n",
       "Name: Year, Length: 5979, dtype: bool"
      ]
     },
     "execution_count": 8,
     "metadata": {},
     "output_type": "execute_result"
    }
   ],
   "source": [
    "drought_germany.Year.isna()"
   ]
  },
  {
   "cell_type": "code",
   "execution_count": null,
   "id": "edd0b895-9729-4e0b-b1dc-deb4cf1b424b",
   "metadata": {},
   "outputs": [],
   "source": []
  }
 ],
 "metadata": {
  "kernelspec": {
   "display_name": "Python 3 (ipykernel)",
   "language": "python",
   "name": "python3"
  },
  "language_info": {
   "codemirror_mode": {
    "name": "ipython",
    "version": 3
   },
   "file_extension": ".py",
   "mimetype": "text/x-python",
   "name": "python",
   "nbconvert_exporter": "python",
   "pygments_lexer": "ipython3",
   "version": "3.9.12"
  }
 },
 "nbformat": 4,
 "nbformat_minor": 5
}
